{
  "nbformat": 4,
  "nbformat_minor": 0,
  "metadata": {
    "colab": {
      "name": "Vine_Review_Analysis.ipynb",
      "provenance": []
    },
    "kernelspec": {
      "name": "python3",
      "display_name": "Python 3"
    },
    "language_info": {
      "name": "python"
    }
  },
  "cells": [
    {
      "cell_type": "code",
      "execution_count": 1,
      "metadata": {
        "colab": {
          "base_uri": "https://localhost:8080/"
        },
        "id": "cQ1IiWU0ajur",
        "outputId": "24bed274-6fb0-42ca-98de-01a75d48451a"
      },
      "outputs": [
        {
          "output_type": "stream",
          "name": "stdout",
          "text": [
            "\r0% [Working]\r            \rGet:1 http://security.ubuntu.com/ubuntu bionic-security InRelease [88.7 kB]\n",
            "\r0% [Connecting to archive.ubuntu.com (91.189.88.142)] [1 InRelease 14.2 kB/88.7\r0% [Waiting for headers] [Connected to cloud.r-project.org (108.157.162.43)] [W\r                                                                               \rIgn:2 https://developer.download.nvidia.com/compute/cuda/repos/ubuntu1804/x86_64  InRelease\n",
            "\r0% [Waiting for headers] [Waiting for headers] [Waiting for headers] [Waiting f\r0% [1 InRelease gpgv 88.7 kB] [Waiting for headers] [Waiting for headers] [Wait\r                                                                               \rGet:3 https://cloud.r-project.org/bin/linux/ubuntu bionic-cran40/ InRelease [3,626 B]\n",
            "\r0% [1 InRelease gpgv 88.7 kB] [Waiting for headers] [3 InRelease 3,626 B/3,626 \r0% [1 InRelease gpgv 88.7 kB] [Waiting for headers] [Waiting for headers] [Wait\r                                                                               \rHit:4 http://archive.ubuntu.com/ubuntu bionic InRelease\n",
            "Get:5 http://ppa.launchpad.net/c2d4u.team/c2d4u4.0+/ubuntu bionic InRelease [15.9 kB]\n",
            "Ign:6 https://developer.download.nvidia.com/compute/machine-learning/repos/ubuntu1804/x86_64  InRelease\n",
            "Get:7 https://developer.download.nvidia.com/compute/cuda/repos/ubuntu1804/x86_64  Release [696 B]\n",
            "Hit:8 https://developer.download.nvidia.com/compute/machine-learning/repos/ubuntu1804/x86_64  Release\n",
            "Get:9 http://archive.ubuntu.com/ubuntu bionic-updates InRelease [88.7 kB]\n",
            "Get:10 https://developer.download.nvidia.com/compute/cuda/repos/ubuntu1804/x86_64  Release.gpg [836 B]\n",
            "Hit:11 http://ppa.launchpad.net/cran/libgit2/ubuntu bionic InRelease\n",
            "Get:12 http://security.ubuntu.com/ubuntu bionic-security/universe amd64 Packages [1,479 kB]\n",
            "Get:13 http://archive.ubuntu.com/ubuntu bionic-backports InRelease [74.6 kB]\n",
            "Get:14 http://ppa.launchpad.net/deadsnakes/ppa/ubuntu bionic InRelease [15.9 kB]\n",
            "Get:15 http://security.ubuntu.com/ubuntu bionic-security/main amd64 Packages [2,628 kB]\n",
            "Hit:16 http://ppa.launchpad.net/graphics-drivers/ppa/ubuntu bionic InRelease\n",
            "Get:17 https://cloud.r-project.org/bin/linux/ubuntu bionic-cran40/ Packages [80.4 kB]\n",
            "Get:19 https://developer.download.nvidia.com/compute/cuda/repos/ubuntu1804/x86_64  Packages [931 kB]\n",
            "Get:20 http://ppa.launchpad.net/c2d4u.team/c2d4u4.0+/ubuntu bionic/main Sources [1,827 kB]\n",
            "Get:21 http://ppa.launchpad.net/c2d4u.team/c2d4u4.0+/ubuntu bionic/main amd64 Packages [936 kB]\n",
            "Get:22 http://archive.ubuntu.com/ubuntu bionic-updates/universe amd64 Packages [2,257 kB]\n",
            "Get:23 http://archive.ubuntu.com/ubuntu bionic-updates/main amd64 Packages [3,067 kB]\n",
            "Get:24 http://ppa.launchpad.net/deadsnakes/ppa/ubuntu bionic/main amd64 Packages [45.2 kB]\n",
            "Fetched 13.5 MB in 6s (2,329 kB/s)\n",
            "Reading package lists... Done\n"
          ]
        }
      ],
      "source": [
        "import os\n",
        "# Find the latest version of spark 3.0 from http://www.apache.org/dist/spark/ and enter as the spark version\n",
        "# For example:\n",
        "# spark_version = 'spark-3.0.3'\n",
        "spark_version = 'spark-3.2.1'\n",
        "os.environ['SPARK_VERSION']=spark_version\n",
        "\n",
        "# Install Spark and Java\n",
        "!apt-get update\n",
        "!apt-get install openjdk-11-jdk-headless -qq > /dev/null\n",
        "!wget -q http://www.apache.org/dist/spark/$SPARK_VERSION/$SPARK_VERSION-bin-hadoop2.7.tgz\n",
        "!tar xf $SPARK_VERSION-bin-hadoop2.7.tgz\n",
        "!pip install -q findspark\n",
        "\n",
        "# Set Environment Variables\n",
        "import os\n",
        "os.environ[\"JAVA_HOME\"] = \"/usr/lib/jvm/java-11-openjdk-amd64\"\n",
        "os.environ[\"SPARK_HOME\"] = f\"/content/{spark_version}-bin-hadoop2.7\"\n",
        "\n",
        "# Start a SparkSession\n",
        "import findspark\n",
        "findspark.init()"
      ]
    },
    {
      "cell_type": "code",
      "source": [
        "from pyspark.sql import SparkSession\n",
        "spark = SparkSession.builder.appName(\"M16-Amazon-Challenge\").config(\"spark.driver.extraClassPath\",\"/content/postgresql-42.2.16.jar\").getOrCreate()"
      ],
      "metadata": {
        "id": "5XHhv64zb0zR"
      },
      "execution_count": 2,
      "outputs": []
    },
    {
      "cell_type": "code",
      "source": [
        "from pyspark import SparkFiles\n",
        "url = \"https://s3.amazonaws.com/amazon-reviews-pds/tsv/amazon_reviews_us_Music_v1_00.tsv.gz\"\n",
        "spark.sparkContext.addFile(url)\n",
        "df = spark.read.option(\"encoding\", \"UTF-8\").csv(SparkFiles.get(\"\"), sep=\"\\t\", header=True, inferSchema=True)\n",
        "df.show()"
      ],
      "metadata": {
        "colab": {
          "base_uri": "https://localhost:8080/"
        },
        "id": "ssGD0EYXb15E",
        "outputId": "0fb36837-282e-4085-90e4-024e6cc73eb6"
      },
      "execution_count": 3,
      "outputs": [
        {
          "output_type": "stream",
          "name": "stdout",
          "text": [
            "+-----------+-----------+--------------+----------+--------------+--------------------+----------------+-----------+-------------+-----------+----+-----------------+--------------------+--------------------+-----------+\n",
            "|marketplace|customer_id|     review_id|product_id|product_parent|       product_title|product_category|star_rating|helpful_votes|total_votes|vine|verified_purchase|     review_headline|         review_body|review_date|\n",
            "+-----------+-----------+--------------+----------+--------------+--------------------+----------------+-----------+-------------+-----------+----+-----------------+--------------------+--------------------+-----------+\n",
            "|         US|   10140119|R3LI5TRP3YIDQL|B00TXH4OLC|     384427924|Whatever's for Us...|           Music|          5|            0|          0|   N|                Y|          Five Stars|Love this CD alon...| 2015-08-31|\n",
            "|         US|   27664622|R3LGC3EKEG84PX|B00B6QXN6U|     831769051|Same Trailer Diff...|           Music|          5|            0|          0|   N|                Y|A new fave in our...|This is the album...| 2015-08-31|\n",
            "|         US|   45946560| R9PYL3OYH55QY|B001GCZXW6|      14067376| Soaring (Jazz Club)|           Music|          5|            0|          1|   N|                Y|          Five Stars|  Excellent / thanks| 2015-08-31|\n",
            "|         US|   15146326|R3PWBAWUS4NT0Q|B000003EK6|     566295619|     CARIBBEAN PARTY|           Music|          3|            0|          0|   N|                Y|         Three Stars|Nice variety of c...| 2015-08-31|\n",
            "|         US|   16794688|R15LYP3O51UU9E|B00N1F0BKK|     210426072|         Pain Killer|           Music|          5|            0|          0|   N|                Y|          Five Stars|Purchased as a gi...| 2015-08-31|\n",
            "|         US|   32203364|R1AD7L0CC3DSRI|B00V7KAO7Q|     360249504|A Thoughtiverse U...|           Music|          5|            0|          0|   N|                Y|Definitely worth ...|Really enjoyed th...| 2015-08-31|\n",
            "|         US|    1194276|R32FE8Y45QV434|B000094Q4P|      20972283|Comfort of Her Wings|           Music|          5|            0|          0|   N|                Y|          Five Stars|            Great CD| 2015-08-31|\n",
            "|         US|   45813052|R3NM4MZ4XWL43Q|B00JMK0P1I|     378049560|Sleep Soundly CD ...|           Music|          5|            1|          2|   N|                Y|          Five Stars|       Excellent CD!| 2015-08-31|\n",
            "|         US|   12795687|R3H4FXX6Q7I37D|B008OW1S3O|     141620702|     An Awesome Wave|           Music|          4|            0|          0|   N|                Y|          Four Stars|                nice| 2015-08-31|\n",
            "|         US|   36673840|R30L5PET7LFFDC|B00VI2L3L4|     920557135|          Blurryface|           Music|          5|            1|          1|   N|                Y|        Outstanding!|Outstanding music...| 2015-08-31|\n",
            "|         US|   49453576|  REFRE1LEKLAF|B0000041EV|     683128964|Mozart For Mother...|           Music|          4|            1|          1|   N|                Y|          Four Stars|      quite relaxing| 2015-08-31|\n",
            "|         US|    3285047|R3JTJ5EQN74E9H|B00005YW4H|     268461622|   Come Away with Me|           Music|          5|            0|          0|   N|                Y|          Five Stars|I love this CD.  ...| 2015-08-31|\n",
            "|         US|   24471201|R1W2F091LCOAW5|B00Q9KEZV0|     444090572| Tomorrow Is My Turn|           Music|          5|            0|          0|   N|                Y|FIve Stars and Th...|Rhiannon Giddens ...| 2015-08-31|\n",
            "|         US|   28049396| RYUMFQRRB1FNM|B00GFXRKHW|     482597726|       The Outsiders|           Music|          3|            0|          0|   N|                Y|         Three Stars|Wrecking Ball is ...| 2015-08-31|\n",
            "|         US|   41137196| RHCS6VVXWV3Q3|B004L3AQ10|     609457123|  The Lincoln Lawyer|           Music|          5|            0|          0|   N|                Y|          Five Stars|I was pleased wit...| 2015-08-31|\n",
            "|         US|   43305401|R35UL1YZ2142SL|B0000025PM|     125399885|Bach: Goldberg Va...|           Music|          5|            0|          0|   N|                Y|   The Creative Flow|The music that in...| 2015-08-31|\n",
            "|         US|   50808489|  RU1O6QD1LEBB|B00701QUN8|     144457491|Quiet Riot - Grea...|           Music|          5|            0|          0|   N|                Y|          Five Stars|   Excellent CD&#62;| 2015-08-31|\n",
            "|         US|   15536614|R36RXVL3XIZFH7|B003UJC2QI|     207971309|Love Or Money/Lov...|           Music|          5|            0|          0|   N|                N|    Great Pop Single|Love Or Money by ...| 2015-08-31|\n",
            "|         US|   32536909|R16O7SHYHLEYA1|B00LGA16J2|     760666287|Jonas Kaufmann - ...|           Music|          5|            0|          0|   N|                Y|          Five Stars|      Just splendid!| 2015-08-31|\n",
            "|         US|   51160312|R1Y5GX65Z2V9BG|B00ZGVMLLE|      37408836|        Clockworking|           Music|          5|            0|          0|   N|                N|Glorious Glorious...|One of my favorit...| 2015-08-31|\n",
            "+-----------+-----------+--------------+----------+--------------+--------------------+----------------+-----------+-------------+-----------+----+-----------------+--------------------+--------------------+-----------+\n",
            "only showing top 20 rows\n",
            "\n"
          ]
        }
      ]
    },
    {
      "cell_type": "code",
      "source": [
        "# Create the vine_table. DataFrame\n",
        "vine_df = df.select([\"review_id\",\"star_rating\",\"helpful_votes\",\"total_votes\",\"vine\",\"verified_purchase\"])\n",
        "vine_df.show()"
      ],
      "metadata": {
        "colab": {
          "base_uri": "https://localhost:8080/"
        },
        "id": "X4L7N7Lyb5eV",
        "outputId": "72073932-912a-4398-8f41-703692708851"
      },
      "execution_count": 4,
      "outputs": [
        {
          "output_type": "stream",
          "name": "stdout",
          "text": [
            "+--------------+-----------+-------------+-----------+----+-----------------+\n",
            "|     review_id|star_rating|helpful_votes|total_votes|vine|verified_purchase|\n",
            "+--------------+-----------+-------------+-----------+----+-----------------+\n",
            "|R3LI5TRP3YIDQL|          5|            0|          0|   N|                Y|\n",
            "|R3LGC3EKEG84PX|          5|            0|          0|   N|                Y|\n",
            "| R9PYL3OYH55QY|          5|            0|          1|   N|                Y|\n",
            "|R3PWBAWUS4NT0Q|          3|            0|          0|   N|                Y|\n",
            "|R15LYP3O51UU9E|          5|            0|          0|   N|                Y|\n",
            "|R1AD7L0CC3DSRI|          5|            0|          0|   N|                Y|\n",
            "|R32FE8Y45QV434|          5|            0|          0|   N|                Y|\n",
            "|R3NM4MZ4XWL43Q|          5|            1|          2|   N|                Y|\n",
            "|R3H4FXX6Q7I37D|          4|            0|          0|   N|                Y|\n",
            "|R30L5PET7LFFDC|          5|            1|          1|   N|                Y|\n",
            "|  REFRE1LEKLAF|          4|            1|          1|   N|                Y|\n",
            "|R3JTJ5EQN74E9H|          5|            0|          0|   N|                Y|\n",
            "|R1W2F091LCOAW5|          5|            0|          0|   N|                Y|\n",
            "| RYUMFQRRB1FNM|          3|            0|          0|   N|                Y|\n",
            "| RHCS6VVXWV3Q3|          5|            0|          0|   N|                Y|\n",
            "|R35UL1YZ2142SL|          5|            0|          0|   N|                Y|\n",
            "|  RU1O6QD1LEBB|          5|            0|          0|   N|                Y|\n",
            "|R36RXVL3XIZFH7|          5|            0|          0|   N|                N|\n",
            "|R16O7SHYHLEYA1|          5|            0|          0|   N|                Y|\n",
            "|R1Y5GX65Z2V9BG|          5|            0|          0|   N|                N|\n",
            "+--------------+-----------+-------------+-----------+----+-----------------+\n",
            "only showing top 20 rows\n",
            "\n"
          ]
        }
      ]
    },
    {
      "cell_type": "code",
      "source": [
        "vine_vote_greater_20_df=vine_df.filter(\"total_votes>=20\")\n",
        "vine_vote_greater_20_df.show()"
      ],
      "metadata": {
        "colab": {
          "base_uri": "https://localhost:8080/"
        },
        "id": "zIQK1LDMcJgr",
        "outputId": "bcd40ee9-8e53-4099-ca8a-e6e46e4622ca"
      },
      "execution_count": 5,
      "outputs": [
        {
          "output_type": "stream",
          "name": "stdout",
          "text": [
            "+--------------+-----------+-------------+-----------+----+-----------------+\n",
            "|     review_id|star_rating|helpful_votes|total_votes|vine|verified_purchase|\n",
            "+--------------+-----------+-------------+-----------+----+-----------------+\n",
            "|R2SHXRL6SL1GC9|          3|           25|         26|   N|                Y|\n",
            "|R2ZC033X86YOY8|          5|           25|         26|   N|                N|\n",
            "|R2736RJGCOSL80|          5|           19|         20|   N|                Y|\n",
            "| RRY5DJ6J9BKAX|          5|           19|         21|   N|                Y|\n",
            "|R2P4PJJ2ROTPBM|          5|           46|         48|   N|                N|\n",
            "| RO8RAEGB66BKR|          4|           46|         46|   N|                N|\n",
            "| RRFZ7QZTRJC59|          5|          292|        300|   N|                N|\n",
            "| RFN4PNRUD1UW2|          4|           21|         22|   N|                N|\n",
            "| RO7EBJEP7IHIX|          5|           26|         26|   N|                N|\n",
            "|R1CVS4MK9RTNNP|          2|           11|         22|   N|                N|\n",
            "| REIWYIGFMEKEV|          5|           26|         30|   N|                Y|\n",
            "|R2FV27WWRWROZU|          4|           26|         27|   N|                N|\n",
            "|R30I82JFOSSJMA|          3|           14|         20|   N|                Y|\n",
            "|R2FUEC06SD2TZ1|          1|            2|         24|   N|                Y|\n",
            "|R16QHOYRY9QLQU|          5|           36|         39|   N|                N|\n",
            "|R1CQON45M11K9Q|          5|          125|        131|   N|                Y|\n",
            "|R1WYWVRXAGND36|          5|           24|         25|   N|                N|\n",
            "| R6RZ581R948P7|          1|           29|         42|   N|                Y|\n",
            "| RBRZ21U9GFORT|          5|           28|         33|   N|                N|\n",
            "|R2Y6OCM9IEH9QO|          1|           12|         21|   N|                N|\n",
            "+--------------+-----------+-------------+-----------+----+-----------------+\n",
            "only showing top 20 rows\n",
            "\n"
          ]
        }
      ]
    },
    {
      "cell_type": "code",
      "source": [
        "vine_helpful_df=df.filter(\"helpful_votes/total_votes>=0.5\")\n",
        "vine_helpful_df.show()"
      ],
      "metadata": {
        "colab": {
          "base_uri": "https://localhost:8080/"
        },
        "id": "KO4_RYk2cNaL",
        "outputId": "86614b72-651f-437a-cebb-df8f647e5491"
      },
      "execution_count": 6,
      "outputs": [
        {
          "output_type": "stream",
          "name": "stdout",
          "text": [
            "+-----------+-----------+--------------+----------+--------------+--------------------+----------------+-----------+-------------+-----------+----+-----------------+--------------------+--------------------+-----------+\n",
            "|marketplace|customer_id|     review_id|product_id|product_parent|       product_title|product_category|star_rating|helpful_votes|total_votes|vine|verified_purchase|     review_headline|         review_body|review_date|\n",
            "+-----------+-----------+--------------+----------+--------------+--------------------+----------------+-----------+-------------+-----------+----+-----------------+--------------------+--------------------+-----------+\n",
            "|         US|   45813052|R3NM4MZ4XWL43Q|B00JMK0P1I|     378049560|Sleep Soundly CD ...|           Music|          5|            1|          2|   N|                Y|          Five Stars|       Excellent CD!| 2015-08-31|\n",
            "|         US|   36673840|R30L5PET7LFFDC|B00VI2L3L4|     920557135|          Blurryface|           Music|          5|            1|          1|   N|                Y|        Outstanding!|Outstanding music...| 2015-08-31|\n",
            "|         US|   49453576|  REFRE1LEKLAF|B0000041EV|     683128964|Mozart For Mother...|           Music|          4|            1|          1|   N|                Y|          Four Stars|      quite relaxing| 2015-08-31|\n",
            "|         US|   17034306|R25Z4ADMYBHR66|B00AIUSGJE|     957788589|   Meet The Supremes|           Music|          4|            1|          2|   N|                Y|Great recording o...|Great recording o...| 2015-08-31|\n",
            "|         US|     642983|R2SGL2ZAPGJH9I|B00E3P5RQ0|     685445819|Star Wars Clone W...|           Music|          5|            1|          1|   N|                N|      I would buy it|I would buy this ...| 2015-08-31|\n",
            "|         US|   47934451| RZR1QCHTL8Q4Z|B014K9K8JO|     305850389|             My Hero|           Music|          5|            1|          1|   N|                N|    Heaven, at last.|I have had occasi...| 2015-08-31|\n",
            "|         US|   21257820|R2M8ZRIWBPQGRR|B00LL7NLK2|     572799845|     A/Z(+DVD)(ltd.)|           Music|          4|            1|          1|   N|                Y|... it wasn't the...|Got rused that it...| 2015-08-31|\n",
            "|         US|   52890295|R3C2J53J8UDDPW|B00J3FHZ38|     317827037|Jeroen Van Veen: ...|           Music|          5|            5|          5|   N|                N|Lots of surprises...|You’d be hard pre...| 2015-08-31|\n",
            "|         US|   23767443|R37RFLBIGKHA9L|B00QW8Q3LE|     303959370|Sounds Like Nashv...|           Music|          4|            1|          1|   N|                N|Country Music Sur...|There's some real...| 2015-08-31|\n",
            "|         US|    3741307|R39NGBRCQYAJRH|B010F0L7AQ|      98106440|  I Can Feel It [EP]|           Music|          4|            4|          4|   N|                N|hey violet(cherri...|I liked them so m...| 2015-08-31|\n",
            "|         US|   48474374|R1IWRRPT6Z5Q1C|B002NPUBZY|     366971013|Blow by Blow [Vinyl]|           Music|          5|            1|          1|   N|                Y|          Five Stars|    No doubt, buy it| 2015-08-31|\n",
            "|         US|   50920541| RNSWM86DC2CJA|B00000DAGE|      50576954|          My Romance|           Music|          5|            1|          1|   N|                Y|             Smooth!|What can I say? -...| 2015-08-31|\n",
            "|         US|   19900921| RAERVMB5F7O47|B00TEJB8JK|      18685663|       Sound & Color|           Music|          3|            6|          8|   N|                Y|Good but certainl...|This album is oka...| 2015-08-31|\n",
            "|         US|   19154819|R2RLRFIU3YUFPJ|B000002G9U|     510874544|             Smokin'|           Music|          4|            1|          1|   N|                Y|Mixing is a littl...|The sound is not ...| 2015-08-31|\n",
            "|         US|   44407743|R3ERZW3I41SAI1|B0042UEMQW|     820818138|Mad Dogs & Englis...|           Music|          3|            1|          2|   N|                Y|I enjoy anything ...|I was expecting s...| 2015-08-31|\n",
            "|         US|   40794597|R1CNP6MGCADO1K|B00IQE4NUK|      21697952|       Ghost Stories|           Music|          5|            1|          1|   N|                Y|          Five Stars|        Great music.| 2015-08-31|\n",
            "|         US|     114728|R2XTTXRU1TP17Z|B00JMBQE76|     678425193|Vessel (Clear Col...|           Music|          5|            1|          1|   N|                N|          Five Stars|Absolutely great!...| 2015-08-31|\n",
            "|         US|   38901234| RUUV6LJ773THT|B00004ZEIG|     217982950|Surf Music Unplugged|           Music|          5|            1|          1|   N|                Y|    Great listening!|I love surf tunes...| 2015-08-31|\n",
            "|         US|   49885588|R2EMAFYRFJCV6E|B000AA4J16|     483123560|           In Europe|           Music|          5|            1|          1|   N|                Y|glad she left thi...|Some people miss ...| 2015-08-31|\n",
            "|         US|   44954355|R3S1JPIRG0EHMU|B013GX8MDO|     177728853|             Compton|           Music|          4|            2|          4|   N|                N|He's rapping abou...|He's rapping abou...| 2015-08-31|\n",
            "+-----------+-----------+--------------+----------+--------------+--------------------+----------------+-----------+-------------+-----------+----+-----------------+--------------------+--------------------+-----------+\n",
            "only showing top 20 rows\n",
            "\n"
          ]
        }
      ]
    },
    {
      "cell_type": "code",
      "source": [
        "vine_y_df=vine_helpful_df.filter(\"vine == 'Y'\")\n",
        "vine_y_df.show()"
      ],
      "metadata": {
        "colab": {
          "base_uri": "https://localhost:8080/"
        },
        "id": "c-HcFAbYcQsy",
        "outputId": "e22a710b-d2d4-4118-ef70-030ceb8a4eb6"
      },
      "execution_count": 7,
      "outputs": [
        {
          "output_type": "stream",
          "name": "stdout",
          "text": [
            "+-----------+-----------+--------------+----------+--------------+--------------------+----------------+-----------+-------------+-----------+----+-----------------+--------------------+--------------------+-----------+\n",
            "|marketplace|customer_id|     review_id|product_id|product_parent|       product_title|product_category|star_rating|helpful_votes|total_votes|vine|verified_purchase|     review_headline|         review_body|review_date|\n",
            "+-----------+-----------+--------------+----------+--------------+--------------------+----------------+-----------+-------------+-----------+----+-----------------+--------------------+--------------------+-----------+\n",
            "|         US|   33107350|R2RZF08POZS24Y|B002ALTAN0|     696582523|             Gary Go|           Music|          3|            1|          1|   Y|                N|Well produced, bu...|To start - my adv...| 2013-01-24|\n",
            "|         US|   14359196| RL3APATHQK2NS|B0027BOL0A|     919523140|        Here With Me|           Music|          4|            1|          1|   Y|                N|Not all children ...|And this is one o...| 2012-04-26|\n",
            "|         US|   27481470| RUYAP1ZCYRED7|B002DKGWUM|     662419776|        Jessie James|           Music|          3|            1|          2|   Y|                N|Seems a bit deriv...|While the songs c...| 2012-04-22|\n",
            "|         US|   52229317|R1SWZLB1A4460R|B003CIG7AE|     790550367|       Infinite Arms|           Music|          2|            1|          2|   Y|                N|      Band of Snores|i liked their deb...| 2012-04-18|\n",
            "|         US|   33107350| RJUAWYTKIM4V7|B001D0T4HG|     595173087|      No Deliverance|           Music|          3|            1|          1|   Y|                N|None of the songs...|Back in college, ...| 2012-03-22|\n",
            "|         US|   25557223|R3NP8J9PAV58Z2|B003CIG7AE|     790550367|       Infinite Arms|           Music|          4|            2|          2|   Y|                N|Great Road Trip M...|Band of Horses is...| 2012-03-14|\n",
            "|         US|   47294670|R3BQZZOY6KJXRR|B0017OLUUC|      59528092|    This Is The Life|           Music|          5|            1|          2|   Y|                N|Fresh Voice, Upbe...|Amy MacDonalds si...| 2012-02-23|\n",
            "|         US|   44727745|R3EZBSCDWLTTGO|B001V7UXB2|     850927814|Fortress Round My...|           Music|          4|            1|          1|   Y|                N|Personal, strong ...|Ida Maria has a s...| 2012-02-13|\n",
            "|         US|   26488356| RMTJWZKUPN18Z|B002DKGWUM|     662419776|        Jessie James|           Music|          4|            1|          1|   Y|                N|Not the typical g...|This CD always ha...| 2011-10-24|\n",
            "|         US|   52637468|R3105EK6O6JYDY|B001P5Q6YI|     405186702|     Ordinary Riches|           Music|          3|            1|          1|   Y|                N|Intriguing on fir...|You know those al...| 2011-10-20|\n",
            "|         US|   52496677| RXQO5ZIGOAMJL|B000SQKZ88|     578363516|Moo, You Bloody C...|           Music|          4|            1|          1|   Y|                N|Folk Music of a D...|Augie March are a...| 2011-09-29|\n",
            "|         US|   28948685|R1HZNOPHPGYVUJ|B000Z5LL8A|     421591806|     The Shackeltons|           Music|          1|            1|          1|   Y|                N|             Um, no.|I'll make this sh...| 2011-09-17|\n",
            "|         US|   50997523|R3K60YTB4U9DB6|B001VLBDEY|     137706317|       Roadhouse Sun|           Music|          4|            2|          2|   Y|                N|Solid.  Not Spect...|The first track o...| 2011-06-23|\n",
            "|         US|   44759540|R3BDNPZ3JFGK46|B0015I2P0Y|     277580240| The Seldom Seen Kid|           Music|          4|            1|          1|   Y|                N|Different and Ple...|I sometimes wonde...| 2011-05-05|\n",
            "|         US|   15812399|R17AFUAEF3FMA4|B003CIG7AE|     790550367|       Infinite Arms|           Music|          4|            1|          1|   Y|                N|      Easy Listening|This is my first ...| 2011-04-25|\n",
            "|         US|   52931766|R2D7J5ICS14I5O|B002ALTAN0|     696582523|             Gary Go|           Music|          4|            1|          1|   Y|                N|Spare and melancholy|This group of son...| 2011-03-07|\n",
            "|         US|   37165172|R26JW39P98B7JG|B0026IZR7K|     108044943|         Crash Kings|           Music|          4|            1|          1|   Y|                N|         Get Moving!|Linda Perry is a ...| 2011-02-22|\n",
            "|         US|   34799430|R2VNVOKU2M9PX2|B001VLBDEY|     137706317|       Roadhouse Sun|           Music|          5|            1|          2|   Y|                N| A Great Third Album|Ryan and the band...| 2011-01-20|\n",
            "|         US|   49442513|R24QI2SA4NYNZ5|B001D0T4HG|     595173087|      No Deliverance|           Music|          3|            1|          2|   Y|                N|New album but not...|I was interested ...| 2010-12-24|\n",
            "|         US|   34799430|R1UGT43JXJ47LU|B001L2I27O|     995259710|          Troubadour|           Music|          5|            4|          4|   Y|                N|      A True Realist|I was totally tak...| 2010-12-23|\n",
            "+-----------+-----------+--------------+----------+--------------+--------------------+----------------+-----------+-------------+-----------+----+-----------------+--------------------+--------------------+-----------+\n",
            "only showing top 20 rows\n",
            "\n"
          ]
        }
      ]
    },
    {
      "cell_type": "code",
      "source": [
        "vine_rating_df=vine_df.groupby(\"star_rating\").count()\n",
        "vine_rating_df.show()"
      ],
      "metadata": {
        "colab": {
          "base_uri": "https://localhost:8080/"
        },
        "id": "ufwYhBbhcUuS",
        "outputId": "e620bbec-1fb0-4bf2-ae0c-a3a2a520e59d"
      },
      "execution_count": 8,
      "outputs": [
        {
          "output_type": "stream",
          "name": "stdout",
          "text": [
            "+-----------+-------+\n",
            "|star_rating|  count|\n",
            "+-----------+-------+\n",
            "|       null|     37|\n",
            "|          1| 198137|\n",
            "|          3| 311666|\n",
            "|          5|3290473|\n",
            "|          4| 796378|\n",
            "|          2| 154886|\n",
            "+-----------+-------+\n",
            "\n"
          ]
        }
      ]
    },
    {
      "cell_type": "code",
      "source": [
        "vine_df.filter(\"star_rating ==5\").count()"
      ],
      "metadata": {
        "colab": {
          "base_uri": "https://localhost:8080/"
        },
        "id": "mrgsOUnTcZV0",
        "outputId": "c6c580d6-7b93-4f16-8fc5-03a47dc8fd48"
      },
      "execution_count": 10,
      "outputs": [
        {
          "output_type": "execute_result",
          "data": {
            "text/plain": [
              "3290473"
            ]
          },
          "metadata": {},
          "execution_count": 10
        }
      ]
    },
    {
      "cell_type": "code",
      "source": [
        "vine_df.filter(\"(vine == 'N')\").count()"
      ],
      "metadata": {
        "colab": {
          "base_uri": "https://localhost:8080/"
        },
        "id": "Vvd1nXFgdteP",
        "outputId": "da145d3c-7c50-469f-d714-47b66935badf"
      },
      "execution_count": 11,
      "outputs": [
        {
          "output_type": "execute_result",
          "data": {
            "text/plain": [
              "4749607"
            ]
          },
          "metadata": {},
          "execution_count": 11
        }
      ]
    },
    {
      "cell_type": "code",
      "source": [
        "vine_df.filter(\"(vine == 'Y')\").count()"
      ],
      "metadata": {
        "colab": {
          "base_uri": "https://localhost:8080/"
        },
        "id": "noSrcDl1dvKc",
        "outputId": "862beea1-6df4-41ea-92bd-2cd99309d5d7"
      },
      "execution_count": 12,
      "outputs": [
        {
          "output_type": "execute_result",
          "data": {
            "text/plain": [
              "1933"
            ]
          },
          "metadata": {},
          "execution_count": 12
        }
      ]
    },
    {
      "cell_type": "code",
      "source": [
        "(vine_df.filter(\"star_rating ==5\").count())/(vine_df.filter(\"(vine == 'N')\").count())*100"
      ],
      "metadata": {
        "colab": {
          "base_uri": "https://localhost:8080/"
        },
        "id": "LprPFaNmdINX",
        "outputId": "2e0715a2-a479-414e-8fbe-2e6bfa2f4031"
      },
      "execution_count": 13,
      "outputs": [
        {
          "output_type": "execute_result",
          "data": {
            "text/plain": [
              "69.27884770255729"
            ]
          },
          "metadata": {},
          "execution_count": 13
        }
      ]
    },
    {
      "cell_type": "code",
      "source": [
        "(vine_df.filter(\"star_rating ==5\").count())/(vine_df.filter(\"vine == 'Y'\").count())*100"
      ],
      "metadata": {
        "colab": {
          "base_uri": "https://localhost:8080/"
        },
        "id": "Uai_tIEDdQw7",
        "outputId": "75321c20-abcc-4181-862b-66ec549f22d0"
      },
      "execution_count": 14,
      "outputs": [
        {
          "output_type": "execute_result",
          "data": {
            "text/plain": [
              "170226.22866011382"
            ]
          },
          "metadata": {},
          "execution_count": 14
        }
      ]
    },
    {
      "cell_type": "code",
      "source": [
        "(vine_df.filter(\"star_rating ==5\").count())/(vine_df.filter(\"(verified_purchase == 'N')\").count())*100"
      ],
      "metadata": {
        "colab": {
          "base_uri": "https://localhost:8080/"
        },
        "id": "RzBUdb4tdU7I",
        "outputId": "913b4141-c5e7-4f6c-d66a-817ec2ecbee8"
      },
      "execution_count": 15,
      "outputs": [
        {
          "output_type": "execute_result",
          "data": {
            "text/plain": [
              "117.97239269192585"
            ]
          },
          "metadata": {},
          "execution_count": 15
        }
      ]
    },
    {
      "cell_type": "code",
      "source": [
        "(vine_df.filter(\"star_rating ==5\").count())/(vine_df.filter(\"(verified_purchase == 'Y')\").count())*100"
      ],
      "metadata": {
        "colab": {
          "base_uri": "https://localhost:8080/"
        },
        "id": "AZNSAIcDdX0Y",
        "outputId": "a2ca79e6-0cef-429a-b82f-b95c2cb44426"
      },
      "execution_count": 16,
      "outputs": [
        {
          "output_type": "execute_result",
          "data": {
            "text/plain": [
              "167.6801448874335"
            ]
          },
          "metadata": {},
          "execution_count": 16
        }
      ]
    }
  ]
}